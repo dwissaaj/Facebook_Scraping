{
 "cells": [
  {
   "cell_type": "code",
   "execution_count": 11,
   "metadata": {
    "collapsed": true
   },
   "outputs": [
    {
     "name": "stdout",
     "output_type": "stream",
     "text": [
      "TimeStamp: 2021-12-10.\n",
      "TimeStamp: 2021-12-01.\n",
      "TimeStamp: 2021-11-22.\n",
      "TimeStamp: 2021-11-12.\n",
      "TimeStamp: 2021-10-25.\n",
      "TimeStamp: 2021-10-07.\n",
      "TimeStamp: 2021-09-09.\n",
      "TimeStamp: 2021-08-14.\n",
      "TimeStamp: 2021-07-18.\n",
      "TimeStamp: 2021-06-23.\n",
      "TimeStamp: 2021-05-28.\n",
      "TimeStamp: 2021-05-05.\n",
      "TimeStamp: 2021-04-22.\n",
      "TimeStamp: 2021-04-12.\n",
      "TimeStamp: 2021-03-30.\n",
      "TimeStamp: 2021-03-12.\n",
      "TimeStamp: 2021-03-01.\n",
      "TimeStamp: 2021-02-15.\n",
      "TimeStamp: 2021-02-07.\n",
      "TimeStamp: 2021-01-12.\n",
      "TimeStamp: 2020-12-22.\n",
      "TimeStamp: 2020-12-02.\n",
      "TimeStamp: 2020-11-12.\n",
      "TimeStamp: 2020-10-27.\n",
      "TimeStamp: 2019-08-12.\n",
      "TimeStamp: 2019-06-25.\n",
      "TimeStamp: 2019-05-05.\n",
      "TimeStamp: 2018-12-29.\n",
      "done for mining\n"
     ]
    }
   ],
   "source": [
    "import facebook_crawler\n",
    "pageurl= 'https://www.facebook.com/kelaskitadotcom/'\n",
    "data = facebook_crawler.Crawl_PagePosts(pageurl=pageurl)\n",
    "print(\"done for mining\")"
   ]
  },
  {
   "cell_type": "code",
   "execution_count": 12,
   "outputs": [],
   "source": [
    "data.to_excel(\"data kelaskita.xlsx\")"
   ],
   "metadata": {
    "collapsed": false,
    "pycharm": {
     "name": "#%%\n"
    }
   }
  }
 ],
 "metadata": {
  "kernelspec": {
   "display_name": "Python 3",
   "language": "python",
   "name": "python3"
  },
  "language_info": {
   "codemirror_mode": {
    "name": "ipython",
    "version": 2
   },
   "file_extension": ".py",
   "mimetype": "text/x-python",
   "name": "python",
   "nbconvert_exporter": "python",
   "pygments_lexer": "ipython2",
   "version": "2.7.6"
  }
 },
 "nbformat": 4,
 "nbformat_minor": 0
}